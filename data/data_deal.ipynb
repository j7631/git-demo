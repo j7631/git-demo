{
 "cells": [
  {
   "cell_type": "code",
   "execution_count": 1,
   "metadata": {},
   "outputs": [],
   "source": [
    "import os\n",
    "import json\n",
    "import pandas as pd"
   ]
  },
  {
   "cell_type": "code",
   "execution_count": 3,
   "metadata": {},
   "outputs": [],
   "source": [
    "triples_data = []\n",
    "json_files = '/Users/bytedance/Desktop/Project/consistency/data/MQuAKE-T.json'\n",
    "\n",
    "with open(json_files, 'r', encoding='utf-8') as f:\n",
    "    data = json.load(f)\n",
    "    for item in data:\n",
    "        if 'orig' in item and 'triples_labeled' in item['orig']:\n",
    "            for triple in item['orig']['triples_labeled']:\n",
    "                triples_data.append({\n",
    "                    'subject': triple[0],\n",
    "                    'relation': triple[1],\n",
    "                    'object': triple[2]\n",
    "                })"
   ]
  },
  {
   "cell_type": "code",
   "execution_count": 4,
   "metadata": {},
   "outputs": [],
   "source": [
    "df = pd.DataFrame(triples_data)"
   ]
  },
  {
   "cell_type": "code",
   "execution_count": 5,
   "metadata": {},
   "outputs": [
    {
     "data": {
      "text/plain": [
       "<bound method NDFrame.head of                        subject                relation  \\\n",
       "0                      TV Land   headquarters location   \n",
       "1                New York City      head of government   \n",
       "2                   Bob Graham  country of citizenship   \n",
       "3     United States of America           head of state   \n",
       "4                  Reed Hadley  country of citizenship   \n",
       "...                        ...                     ...   \n",
       "4180  United States of America      head of government   \n",
       "4181                Kyle Reese                  spouse   \n",
       "4182              Sarah Connor                   child   \n",
       "4183               John Connor  country of citizenship   \n",
       "4184  United States of America           head of state   \n",
       "\n",
       "                        object  \n",
       "0                New York City  \n",
       "1               Bill de Blasio  \n",
       "2     United States of America  \n",
       "3                 Donald Trump  \n",
       "4     United States of America  \n",
       "...                        ...  \n",
       "4180              Donald Trump  \n",
       "4181              Sarah Connor  \n",
       "4182               John Connor  \n",
       "4183  United States of America  \n",
       "4184              Donald Trump  \n",
       "\n",
       "[4185 rows x 3 columns]>"
      ]
     },
     "execution_count": 5,
     "metadata": {},
     "output_type": "execute_result"
    }
   ],
   "source": [
    "df.head"
   ]
  },
  {
   "cell_type": "code",
   "execution_count": 6,
   "metadata": {},
   "outputs": [],
   "source": [
    "df.to_csv('triples_labeled.csv', index=False)\n"
   ]
  },
  {
   "cell_type": "code",
   "execution_count": null,
   "metadata": {},
   "outputs": [],
   "source": []
  }
 ],
 "metadata": {
  "kernelspec": {
   "display_name": ".venv",
   "language": "python",
   "name": "python3"
  },
  "language_info": {
   "codemirror_mode": {
    "name": "ipython",
    "version": 3
   },
   "file_extension": ".py",
   "mimetype": "text/x-python",
   "name": "python",
   "nbconvert_exporter": "python",
   "pygments_lexer": "ipython3",
   "version": "3.9.6"
  }
 },
 "nbformat": 4,
 "nbformat_minor": 2
}
