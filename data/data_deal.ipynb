{
 "cells": [
  {
   "cell_type": "code",
   "execution_count": 1,
   "metadata": {},
   "outputs": [],
   "source": [
    "import os\n",
    "import json\n",
    "import pandas as pd"
   ]
  },
  {
   "cell_type": "code",
   "execution_count": 15,
   "metadata": {},
   "outputs": [],
   "source": [
    "triples_data = []\n",
    "json_files = '/Users/bytedance/Desktop/Project/consistency/data/MQuAKE-CF-3k-v2.json'\n",
    "\n",
    "with open(json_files, 'r', encoding='utf-8') as f:\n",
    "    data = json.load(f)\n",
    "    for item in data:\n",
    "        if 'orig' in item and 'triples_labeled' in item['orig']:\n",
    "            for triple in item['orig']['triples_labeled']:\n",
    "                triples_data.append({\n",
    "                    'subject': triple[0],\n",
    "                    'relation': triple[1],\n",
    "                    'object': triple[2]\n",
    "                })"
   ]
  },
  {
   "cell_type": "code",
   "execution_count": 18,
   "metadata": {},
   "outputs": [],
   "source": [
    "# 去重：将字典转换为元组进行去重\n",
    "triples_data_unique = list({(d['subject'], d['relation'], d['object']) for d in triples_data})\n",
    "\n",
    "# 将去重后的数据转换回字典格式\n",
    "triples_data_unique = [{'subject': t[0], 'relation': t[1], 'object': t[2]} for t in triples_data_unique]\n",
    "\n",
    "# 将提取的信息转换为 DataFrame\n",
    "df = pd.DataFrame(triples_data_unique)\n"
   ]
  },
  {
   "cell_type": "code",
   "execution_count": 19,
   "metadata": {},
   "outputs": [
    {
     "data": {
      "text/plain": [
       "<bound method NDFrame.head of                        subject               relation  \\\n",
       "0                 The Simpsons   original broadcaster   \n",
       "1                  Donald Tusk  religion or worldview   \n",
       "2                  Donna Tartt  religion or worldview   \n",
       "3                 Christianity             founded by   \n",
       "4              Yale University            chairperson   \n",
       "...                        ...                    ...   \n",
       "3777  Seattle Sounders FC U-23                  sport   \n",
       "3778             Edward Cullen                creator   \n",
       "3779                    Horace          work location   \n",
       "3780              Fujieda MYFC                  sport   \n",
       "3781            Being and Time                 author   \n",
       "\n",
       "                        object  \n",
       "0     Fox Broadcasting Company  \n",
       "1              Catholic Church  \n",
       "2              Catholic Church  \n",
       "3                 Jesus Christ  \n",
       "4                Peter Salovey  \n",
       "...                        ...  \n",
       "3777      association football  \n",
       "3778           Stephenie Meyer  \n",
       "3779                      Rome  \n",
       "3780      association football  \n",
       "3781          Martin Heidegger  \n",
       "\n",
       "[3782 rows x 3 columns]>"
      ]
     },
     "execution_count": 19,
     "metadata": {},
     "output_type": "execute_result"
    }
   ],
   "source": [
    "df.head"
   ]
  },
  {
   "cell_type": "code",
   "execution_count": 20,
   "metadata": {},
   "outputs": [],
   "source": [
    "df.to_csv('CF-triples_labeled.csv', index=False)\n"
   ]
  },
  {
   "cell_type": "code",
   "execution_count": null,
   "metadata": {},
   "outputs": [],
   "source": []
  }
 ],
 "metadata": {
  "kernelspec": {
   "display_name": ".venv",
   "language": "python",
   "name": "python3"
  },
  "language_info": {
   "codemirror_mode": {
    "name": "ipython",
    "version": 3
   },
   "file_extension": ".py",
   "mimetype": "text/x-python",
   "name": "python",
   "nbconvert_exporter": "python",
   "pygments_lexer": "ipython3",
   "version": "3.9.6"
  }
 },
 "nbformat": 4,
 "nbformat_minor": 2
}
