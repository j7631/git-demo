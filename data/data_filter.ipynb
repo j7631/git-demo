{
 "cells": [
  {
   "cell_type": "code",
   "execution_count": 45,
   "metadata": {},
   "outputs": [
    {
     "name": "stdout",
     "output_type": "stream",
     "text": [
      "(3782, 3)\n",
      "3534\n",
      "(3777, 3)\n"
     ]
    },
    {
     "name": "stderr",
     "output_type": "stream",
     "text": [
      "/tmp/ipykernel_734886/3921806771.py:39: SettingWithCopyWarning: \n",
      "A value is trying to be set on a copy of a slice from a DataFrame.\n",
      "Try using .loc[row_indexer,col_indexer] = value instead\n",
      "\n",
      "See the caveats in the documentation: https://pandas.pydata.org/pandas-docs/stable/user_guide/indexing.html#returning-a-view-versus-a-copy\n",
      "  filtered_df['first_index'] = filtered_df['subject'].map(first_index_dict)\n"
     ]
    }
   ],
   "source": [
    "import os\n",
    "import pandas as pd\n",
    "\n",
    "# 读取原始CSV文件\n",
    "csv_file_path = '/opt/tiger/trl/consistency/git-demo/data/CF-triples_labeled.csv'\n",
    "df = pd.read_csv(csv_file_path)\n",
    "print(df.shape)\n",
    "# 获取已保存文件夹的列表\n",
    "saved_folders = os.listdir('/opt/tiger/trl/consistency/git-demo/data/images_')\n",
    "# 提取已爬取的数据的 subject\n",
    "saved_subjects = []\n",
    "# print(len(saved_folders))\n",
    "for folder in saved_folders:\n",
    "    # print(folder)\n",
    "    index_split = folder.find('_')\n",
    "    # print(index_split)\n",
    "    \n",
    "    if index_split != -1:\n",
    "        subject = folder[index_split + 1:]\n",
    "        saved_subjects.append(subject)\n",
    "    # print(subject)\n",
    "    \n",
    "print(len(saved_subjects))\n",
    "# 过滤掉没有爬虫返回的数据\n",
    "df['subject'] = df['subject'].replace(' ', '_', regex=True).astype(str)\n",
    "\n",
    "filtered_df = df[df['subject'].isin(saved_subjects)]\n",
    "print(filtered_df.shape)\n",
    "\n",
    "# 创建一个字典来存储每个 subject 第一次出现的索引\n",
    "first_index_dict = {}\n",
    "\n",
    "# 遍历 DataFrame 并记录每个 subject 第一次出现的索引\n",
    "for idx, subject in enumerate(df['subject'].unique()):\n",
    "    if subject not in first_index_dict:\n",
    "        first_index_dict[subject] = idx\n",
    "\n",
    "# 创建一个新的列 'first_index' 并将第一次出现的索引赋值给每个 subject\n",
    "filtered_df['first_index'] = filtered_df['subject'].map(first_index_dict)\n",
    "df = pd.read_csv(csv_file_path)\n",
    "filtered_df['subject'] = df['subject']\n",
    "# 打印结果\n",
    "# print(unique_subjects_df)\n",
    "# 保存过滤后的数据到新的CSV文件\n",
    "filtered_csv_file_path = 'filtered.csv'\n",
    "filtered_df.to_csv(filtered_csv_file_path, index=False)"
   ]
  },
  {
   "cell_type": "code",
   "execution_count": 24,
   "metadata": {},
   "outputs": [
    {
     "data": {
      "text/plain": [
       "4"
      ]
     },
     "execution_count": 24,
     "metadata": {},
     "output_type": "execute_result"
    }
   ],
   "source": []
  },
  {
   "cell_type": "code",
   "execution_count": 41,
   "metadata": {},
   "outputs": [
    {
     "name": "stdout",
     "output_type": "stream",
     "text": [
      "Empty DataFrame\n",
      "Columns: [subject, relation, object]\n",
      "Index: []\n"
     ]
    }
   ],
   "source": [
    "print(df[~df['subject'].isin(saved_subjects)])"
   ]
  },
  {
   "cell_type": "code",
   "execution_count": 30,
   "metadata": {},
   "outputs": [
    {
     "name": "stdout",
     "output_type": "stream",
     "text": [
      "Defaulting to user installation because normal site-packages is not writeable\n",
      "Looking in indexes: https://bytedpypi.byted.org/simple/\n",
      "Collecting openpyxl\n",
      "  Downloading https://bytedpypi.byted.org/packages/openpyxl/openpyxl-3.1.5-py2.py3-none-any.whl (250 kB)\n",
      "Collecting et-xmlfile (from openpyxl)\n",
      "  Downloading https://bytedpypi.byted.org/packages/et-xmlfile/et_xmlfile-2.0.0-py3-none-any.whl (18 kB)\n",
      "Installing collected packages: et-xmlfile, openpyxl\n",
      "Successfully installed et-xmlfile-2.0.0 openpyxl-3.1.5\n",
      "Note: you may need to restart the kernel to use updated packages.\n"
     ]
    }
   ],
   "source": [
    "pip install openpyxl"
   ]
  },
  {
   "cell_type": "code",
   "execution_count": null,
   "metadata": {},
   "outputs": [],
   "source": []
  }
 ],
 "metadata": {
  "fileId": "d2d4ba2a-0823-4293-b783-3b5d52a478f4",
  "filePath": "/opt/tiger/trl/consistency/git-demo/data/data_filter.ipynb",
  "kernelspec": {
   "display_name": "Python 3",
   "language": "python",
   "name": "python3"
  },
  "language_info": {
   "codemirror_mode": {
    "name": "ipython",
    "version": 3
   },
   "file_extension": ".py",
   "mimetype": "text/x-python",
   "name": "python",
   "nbconvert_exporter": "python",
   "pygments_lexer": "ipython3",
   "version": "3.9.2"
  }
 },
 "nbformat": 4,
 "nbformat_minor": 2
}
