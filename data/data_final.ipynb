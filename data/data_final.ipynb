{
 "cells": [
  {
   "cell_type": "code",
   "execution_count": 6,
   "metadata": {},
   "outputs": [
    {
     "name": "stdout",
     "output_type": "stream",
     "text": [
      "(3773, 7)\n"
     ]
    }
   ],
   "source": [
    "import pandas as pd\n",
    "\n",
    "# 从 Excel 文件中读取数据到 DataFrame\n",
    "df = pd.read_excel('/opt/tiger/trl/consistency/git-demo/data/data_with_question.xlsx').astype(str)\n",
    "\n",
    "# 从 CSV 文件中读取数据到 DataFrame\n",
    "df_filter = pd.read_csv('/opt/tiger/trl/consistency/git-demo/data/data_final_v1.csv').astype(str)\n",
    "\n",
    "# 选择要用于合并的前三列\n",
    "merge_columns = df.columns[:3].tolist()\n",
    "\n",
    "# 使用 merge 函数根据前三列进行合并\n",
    "df_merged = pd.merge(df_filter, df, on=merge_columns, how='inner')\n",
    "\n",
    "# 打印合并后的 DataFrame\n",
    "print(df_merged.shape)"
   ]
  },
  {
   "cell_type": "code",
   "execution_count": 7,
   "metadata": {},
   "outputs": [],
   "source": [
    "df_merged.to_csv('tmp_f.csv')"
   ]
  },
  {
   "cell_type": "code",
   "execution_count": null,
   "metadata": {},
   "outputs": [],
   "source": []
  }
 ],
 "metadata": {
  "fileId": "ba1efb8a-7d29-4faa-ba89-01b00cb163ed",
  "filePath": "/opt/tiger/trl/consistency/git-demo/data/data_final.ipynb",
  "kernelspec": {
   "display_name": "Python 3",
   "language": "python",
   "name": "python3"
  },
  "language_info": {
   "codemirror_mode": {
    "name": "ipython",
    "version": 3
   },
   "file_extension": ".py",
   "mimetype": "text/x-python",
   "name": "python",
   "nbconvert_exporter": "python",
   "pygments_lexer": "ipython3",
   "version": "3.9.2"
  }
 },
 "nbformat": 4,
 "nbformat_minor": 2
}
